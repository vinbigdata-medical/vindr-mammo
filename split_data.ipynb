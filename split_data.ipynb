{
 "cells": [
  {
   "cell_type": "code",
   "execution_count": null,
   "metadata": {},
   "outputs": [],
   "source": [
    "import json\n",
    "import numpy as np\n",
    "import pandas as pd\n",
    "from itertools import chain\n",
    "from collections import defaultdict, Counter\n",
    "from IPython.display import display\n",
    "import json\n"
   ]
  },
  {
   "cell_type": "code",
   "execution_count": null,
   "metadata": {},
   "outputs": [],
   "source": [
    "GLOBAL_PATH = \"./breast-level_annotations.csv\"\n",
    "LOCAL_PATH = \"./finding_annotations.csv\"\n",
    "birads_LESIONS = {\n",
    "    \"Mass\",\n",
    "    \"Suspicious Calcification\", \"Architectural Distortion\", \n",
    "    \"Focal Asymmetry\", \"Global Asymmetry\", \"Asymmetry\",\n",
    "}\n",
    "NO_BIRADS = {\n",
    "    \"Suspicious Lymph Node\", \n",
    "    'Skin Thickening',\n",
    "    'Skin Retraction',\n",
    "    'Nipple Retraction',\n",
    "    'No Finding',\n",
    "}\n",
    "BIRADS345 = [\"BI-RADS 3\", \"BI-RADS 4\", \"BI-RADS 5\"]\n",
    "ALL_LESIONS = [\n",
    "    'Suspicious Lymph Node',\n",
    "    'Mass',\n",
    "    'Suspicious Calcification',\n",
    "    'Asymmetry',\n",
    "    'Focal Asymmetry',\n",
    "    'Global Asymmetry',\n",
    "    'Architectural Distortion',\n",
    "    'Skin Thickening',\n",
    "    'Skin Retraction',\n",
    "    'Nipple Retraction',\n",
    "    'No Finding',\n",
    "]\n",
    "\n",
    "\n",
    "def show_df(df):\n",
    "    with pd.option_context(\n",
    "        'display.max_rows', None, \n",
    "        'display.max_columns', None,\n",
    "        'display.max_colwidth', None,\n",
    "    ):  # more options can be specified also\n",
    "        display(df)\n",
    "\n",
    "\n",
    "def count_birads_densities(df):\n",
    "    \"\"\"\n",
    "    count birads density at breast level\n",
    "    \"\"\"\n",
    "    counter = defaultdict(lambda : 0)\n",
    "    den_counter = defaultdict(lambda : 0)\n",
    "    for (study_id, side), rows in df.groupby([\"study_id\",\"laterality\"]):\n",
    "        birads = rows.breast_birads.values[0]\n",
    "        counter[birads] += 1\n",
    "        density = rows.breast_density.values[0]\n",
    "        den_counter[density] += 1\n",
    "        \n",
    "    total = sum(counter.values())\n",
    "    total2 = sum(den_counter.values())\n",
    "    assert total == total2\n",
    "    percent = {k:f\"{100.*v/total:.2f}\" for k,v in counter.items()}\n",
    "    counter[\"Total\"] = total\n",
    "    stats = pd.DataFrame.from_records({\"No. breast\": counter, \"percent\": percent})\n",
    "    stats.index.name = \"BI-RADS\"\n",
    "    stats = stats.sort_index()\n",
    "    \n",
    "    den_percent = {k:f\"{100.*v/total:.2f}\" for k,v in den_counter.items()}\n",
    "    den_counter[\"Total\"] = total\n",
    "    den_stats = pd.DataFrame({\"No. breast\": den_counter, \"percent\": den_percent})\n",
    "    den_stats.index.name = \"DENSITY\"\n",
    "    den_stats = den_stats.sort_index()\n",
    "    return stats, den_stats\n",
    "\n",
    "\n",
    "def count_box_birads(df):\n",
    "    \"\"\"\n",
    "    \"\"\"\n",
    "    counter = defaultdict(lambda: defaultdict(lambda : 0))\n",
    "    df.finding_birads = df.finding_birads.fillna(\"\")\n",
    "    all_birads = sorted(df.finding_birads.unique().tolist())\n",
    "    for _, row in df.iterrows():\n",
    "        for clas in row.finding_categories:\n",
    "            counter[clas][\"Total\"] += 1\n",
    "            counter[clas][row.finding_birads] += 1\n",
    "    for k,v in counter.items():\n",
    "        v[\"Lesion\"] = k\n",
    "    df = pd.DataFrame.from_records(list(counter.values()), columns=[\"Lesion\", \"Total\"] + all_birads)\n",
    "    lesion = df[\"Lesion\"].values\n",
    "    df = df.set_index(\"Lesion\")\n",
    "    df = df.reindex(ALL_LESIONS)\n",
    "\n",
    "    df = df.fillna(0)\n",
    "    df.loc[\"All lesions\"] = df.sum()\n",
    "    df = df.astype('int32')\n",
    "    return df\n",
    "\n",
    "\n",
    "def count_box_label(df):\n",
    "    box_label = list(chain(*df.box_label.tolist()))\n",
    "    return Counter(box_label)\n",
    "\n",
    "\n",
    "def df_counts(df):\n",
    "    print(\"no. studies\", len(df.study_id.unique()))\n",
    "    print(\"no. images\", len(df.image_id.unique()))\n"
   ]
  },
  {
   "cell_type": "code",
   "execution_count": null,
   "metadata": {},
   "outputs": [],
   "source": [
    "local_df = pd.read_csv(LOCAL_PATH)\n",
    "local_df[\"finding_categories\"] = local_df[\"finding_categories\"].apply(lambda x: json.loads(x.replace(\"\\'\", \"\\\"\")))\n",
    "local_df.head()"
   ]
  },
  {
   "cell_type": "code",
   "execution_count": null,
   "metadata": {},
   "outputs": [],
   "source": [
    "global_df = pd.read_csv(GLOBAL_PATH)\n",
    "global_df.head()"
   ]
  },
  {
   "cell_type": "code",
   "execution_count": null,
   "metadata": {
    "collapsed": true,
    "jupyter": {
     "outputs_hidden": true
    }
   },
   "outputs": [],
   "source": [
    "# create attributes list for each study to stratify\n",
    "split_col = [f\"BI-RADS {i}\" for i in range(1,6)]\n",
    "split_col = split_col + [f\"DENSITY {x}\" for x in \"ABCD\"]\n",
    "split_col.extend(list(NO_BIRADS))\n",
    "split_col = split_col + [f\"{box_name}_{box_birads}\" for box_name in birads_LESIONS for box_birads in BIRADS345]\n",
    "split_col"
   ]
  },
  {
   "cell_type": "code",
   "execution_count": null,
   "metadata": {},
   "outputs": [],
   "source": [
    "# count number of instances for each attribute of the study\n",
    "# e.g for breast-level annotations it is number of images in the study\n",
    "# for finding annotations it is number of bounding box in the study\n",
    "study_ids = sorted(global_df.study_id.unique().tolist())\n",
    "labels_ar = np.zeros((len(study_ids), len(split_col)), dtype=np.int32)\n",
    "for (study_id, lat), rows in global_df.groupby([\"study_id\", \"laterality\"]):\n",
    "    birads = rows.breast_birads.values[0]\n",
    "    density = rows.breast_density.values[0]\n",
    "    labels_ar[study_ids.index(study_id),split_col.index(birads)] += 1\n",
    "    labels_ar[study_ids.index(study_id),split_col.index(density)] += 1\n",
    "for _, x in local_df.iterrows():\n",
    "    birads = x[\"finding_birads\"]\n",
    "    for label in x[\"finding_categories\"]:\n",
    "        if label in birads_LESIONS:\n",
    "            labels_ar[\n",
    "                study_ids.index(x[\"study_id\"]),\n",
    "                split_col.index(f\"{label}_{birads}\"),\n",
    "            ] += 1\n",
    "        else:\n",
    "            labels_ar[\n",
    "                study_ids.index(x[\"study_id\"]),\n",
    "                split_col.index(label),\n",
    "            ] += 1\n",
    "total = labels_ar.sum(axis=0)\n",
    "for name,v in zip(split_col, total):\n",
    "    print(name,v)"
   ]
  },
  {
   "cell_type": "code",
   "execution_count": null,
   "metadata": {},
   "outputs": [],
   "source": [
    "from stratification import IterativeStratification\n",
    "SEED = 1999\n",
    "SPLITS = np.array([0.8, 0.2])\n",
    "stratifier = IterativeStratification(SEED)\n",
    "fold_ids = stratifier.stratify(labels_ar, SPLITS)"
   ]
  },
  {
   "cell_type": "code",
   "execution_count": null,
   "metadata": {},
   "outputs": [],
   "source": [
    "global_df['fold'] = \"\"\n",
    "local_df['fold'] = \"\"\n",
    "fold_name = [\"training\", \"test\"]\n",
    "for k in range(2):\n",
    "    fold_idx = np.where(fold_ids==k)[0]\n",
    "#     print(fold_idx)\n",
    "    study_uids = [study_ids[i] for i in fold_idx]\n",
    "#     print(study_uids[:5])\n",
    "    global_df.loc[global_df.study_id.isin(study_uids), 'fold'] = fold_name[k]\n",
    "    local_df.loc[local_df.study_id.isin(study_uids), 'fold'] = fold_name[k]\n",
    "    print(global_df[global_df.study_id.isin(study_uids)].shape)\n",
    "    print(local_df[local_df.study_id.isin(study_uids)].shape)"
   ]
  },
  {
   "cell_type": "code",
   "execution_count": null,
   "metadata": {},
   "outputs": [],
   "source": [
    "show_df(count_box_birads(local_df[local_df.fold == \"training\"]))\n",
    "show_df(count_box_birads(local_df[local_df.fold == \"test\"]))"
   ]
  },
  {
   "cell_type": "code",
   "execution_count": null,
   "metadata": {},
   "outputs": [],
   "source": [
    "print(\"Whole dataset:\")\n",
    "bi, den = count_birads_densities(global_df)\n",
    "show_df(bi)\n",
    "show_df(den)\n",
    "\n",
    "print(\"Training split:\")\n",
    "bi, den = count_birads_densities(global_df[global_df.fold == \"training\"])\n",
    "show_df(bi)\n",
    "show_df(den)\n",
    "\n",
    "print(\"Test split:\")\n",
    "bi, den = count_birads_densities(global_df[global_df.fold == \"test\"])\n",
    "show_df(bi)\n",
    "show_df(den)"
   ]
  }
 ],
 "metadata": {
  "kernelspec": {
   "display_name": "Python 3",
   "language": "python",
   "name": "python3"
  },
  "language_info": {
   "codemirror_mode": {
    "name": "ipython",
    "version": 3
   },
   "file_extension": ".py",
   "mimetype": "text/x-python",
   "name": "python",
   "nbconvert_exporter": "python",
   "pygments_lexer": "ipython3",
   "version": "3.7.10"
  }
 },
 "nbformat": 4,
 "nbformat_minor": 4
}
